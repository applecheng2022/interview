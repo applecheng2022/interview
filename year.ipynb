{
 "cells": [
  {
   "cell_type": "markdown",
   "metadata": {},
   "source": [
    "Load the data from the csv file into a Pandas dataframe  \n",
    "Delete any NULL dates  \n",
    "Add a new column called year which will hold the year from the date"
   ]
  },
  {
   "cell_type": "code",
   "execution_count": 13,
   "metadata": {},
   "outputs": [],
   "source": [
    "import pandas\n",
    "import calendar\n",
    "data = pandas.read_csv( 'premises-list-as-at-8-february-2021.csv', encoding= 'unicode_escape', usecols=['Start date']  )\n",
    "data.dropna( inplace = True )\n",
    "data['year']=None\n",
    "\n"
   ]
  },
  {
   "cell_type": "markdown",
   "metadata": {},
   "source": [
    "Loop through each row and extract the year from the date  \n",
    "Show the number of records in each year"
   ]
  },
  {
   "cell_type": "code",
   "execution_count": 14,
   "metadata": {},
   "outputs": [
    {
     "data": {
      "text/plain": [
       "1905       1\n",
       "1906       2\n",
       "1910       1\n",
       "1911       1\n",
       "1920       5\n",
       "        ... \n",
       "2017     949\n",
       "2018     944\n",
       "2019     838\n",
       "2020    1002\n",
       "2021      92\n",
       "Name: year, Length: 105, dtype: int64"
      ]
     },
     "execution_count": 14,
     "metadata": {},
     "output_type": "execute_result"
    }
   ],
   "source": [
    "for ind in data.index:\n",
    "    date = data['Start date'][ind]\n",
    "    year = date.split('/')[2]\n",
    "    data['year'][ind] = int(year)\n",
    "\n",
    "data['year'].value_counts().sort_index()"
   ]
  },
  {
   "cell_type": "markdown",
   "metadata": {},
   "source": [
    "Loop through the records and calculate the percentage change between each year  \n",
    "Keep a track of the maximums so they can be displayed later"
   ]
  },
  {
   "cell_type": "code",
   "execution_count": 15,
   "metadata": {},
   "outputs": [
    {
     "name": "stdout",
     "output_type": "stream",
     "text": [
      "1906 - 1905 : 100.0\n",
      "1910 - 1906 : -50.0\n",
      "1911 - 1910 : 0.0\n",
      "1920 - 1911 : 400.0\n",
      "1922 - 1920 : -40.0\n",
      "1923 - 1922 : 3266.6666666666665\n",
      "1924 - 1923 : -98.01980198019803\n",
      "1925 - 1924 : 100.0\n",
      "1926 - 1925 : -25.0\n",
      "1927 - 1926 : -33.33333333333333\n",
      "1928 - 1927 : 0.0\n",
      "1929 - 1928 : 100.0\n",
      "1930 - 1929 : 175.0\n",
      "1931 - 1930 : -63.63636363636363\n",
      "1932 - 1931 : 25.0\n",
      "1933 - 1932 : -20.0\n",
      "1934 - 1933 : 100.0\n",
      "1935 - 1934 : -25.0\n",
      "1936 - 1935 : 16.666666666666664\n",
      "1937 - 1936 : -14.285714285714285\n",
      "1938 - 1937 : 50.0\n",
      "1939 - 1938 : 22.22222222222222\n",
      "1940 - 1939 : 27.27272727272727\n",
      "1941 - 1940 : -64.28571428571429\n",
      "1942 - 1941 : 120.0\n",
      "1943 - 1942 : 0.0\n",
      "1944 - 1943 : -18.181818181818183\n",
      "1945 - 1944 : 44.44444444444444\n",
      "1946 - 1945 : 223.0769230769231\n",
      "1947 - 1946 : 390.4761904761905\n",
      "1948 - 1947 : -42.23300970873786\n",
      "1949 - 1948 : -60.50420168067227\n",
      "1950 - 1949 : 57.446808510638306\n",
      "1951 - 1950 : -29.72972972972973\n",
      "1952 - 1951 : 23.076923076923077\n",
      "1953 - 1952 : 26.5625\n",
      "1954 - 1953 : 34.5679012345679\n",
      "1955 - 1954 : 253.21100917431193\n",
      "1956 - 1955 : -36.883116883116884\n",
      "1957 - 1956 : 4.526748971193416\n",
      "1958 - 1957 : 20.866141732283463\n",
      "1959 - 1958 : 31.596091205211724\n",
      "1960 - 1959 : -9.158415841584159\n",
      "1961 - 1960 : -67.8474114441417\n",
      "1962 - 1961 : -16.94915254237288\n",
      "1963 - 1962 : -57.14285714285714\n",
      "1964 - 1963 : -19.047619047619047\n",
      "1965 - 1964 : -8.823529411764707\n",
      "1966 - 1965 : 38.70967741935484\n",
      "1967 - 1966 : 37.2093023255814\n",
      "1968 - 1967 : -23.728813559322035\n",
      "1969 - 1968 : 66.66666666666666\n",
      "1970 - 1969 : -12.0\n",
      "1971 - 1970 : -27.27272727272727\n",
      "1972 - 1971 : 66.66666666666666\n",
      "1973 - 1972 : 27.500000000000004\n",
      "1974 - 1973 : -7.8431372549019605\n",
      "1975 - 1974 : 17.02127659574468\n",
      "1976 - 1975 : -6.363636363636363\n",
      "1977 - 1976 : 5.825242718446602\n",
      "1978 - 1977 : -21.100917431192663\n",
      "1979 - 1978 : 53.48837209302325\n",
      "1980 - 1979 : 92.42424242424242\n",
      "1981 - 1980 : -50.78740157480315\n",
      "1982 - 1981 : 9.6\n",
      "1983 - 1982 : 24.817518248175183\n",
      "1984 - 1983 : -5.847953216374268\n",
      "1985 - 1984 : -32.298136645962735\n",
      "1986 - 1985 : 16.51376146788991\n",
      "1987 - 1986 : -7.086614173228346\n",
      "1988 - 1987 : 34.74576271186441\n",
      "1989 - 1988 : -9.433962264150944\n",
      "1990 - 1989 : -9.027777777777777\n",
      "1991 - 1990 : -13.740458015267176\n",
      "1992 - 1991 : -7.079646017699115\n",
      "1993 - 1992 : 24.761904761904763\n",
      "1994 - 1993 : -3.816793893129771\n",
      "1995 - 1994 : 0.0\n",
      "1996 - 1995 : 19.841269841269842\n",
      "1997 - 1996 : 29.80132450331126\n",
      "1998 - 1997 : 11.224489795918368\n",
      "1999 - 1998 : 11.46788990825688\n",
      "2000 - 1999 : 19.34156378600823\n",
      "2001 - 2000 : -21.03448275862069\n",
      "2002 - 2001 : 18.340611353711793\n",
      "2003 - 2002 : -4.428044280442804\n",
      "2004 - 2003 : 23.552123552123554\n",
      "2005 - 2004 : -3.4375000000000004\n",
      "2006 - 2005 : -8.737864077669903\n",
      "2007 - 2006 : 9.219858156028367\n",
      "2008 - 2007 : 10.714285714285714\n",
      "2009 - 2008 : 62.4633431085044\n",
      "2010 - 2009 : 4.1516245487364625\n",
      "2011 - 2010 : -2.5996533795493932\n",
      "2012 - 2011 : 0.8896797153024912\n",
      "2013 - 2012 : 5.64373897707231\n",
      "2014 - 2013 : -16.86143572621035\n",
      "2015 - 2014 : 39.558232931726906\n",
      "2016 - 2015 : 3.884892086330935\n",
      "2017 - 2016 : 31.440443213296398\n",
      "2018 - 2017 : -0.5268703898840885\n",
      "2019 - 2018 : -11.228813559322035\n",
      "2020 - 2019 : 19.570405727923628\n",
      "2021 - 2020 : -90.8183632734531\n"
     ]
    }
   ],
   "source": [
    "result = data['year'].value_counts().sort_index()\n",
    "previous_ind = None\n",
    "max_percent = -9999999\n",
    "\n",
    "for ind in result.index:\n",
    "    \n",
    "    if previous_ind is not None:\n",
    "        percent = (result[ind] - result[previous_ind]) / result[previous_ind] * 100\n",
    "        print (f'{ind} - {previous_ind} : {percent}')\n",
    "\n",
    "        if percent > max_percent:\n",
    "            max_percent = percent\n",
    "            max_previous_index = previous_ind\n",
    "            max_index = ind\n",
    "        \n",
    "    previous_ind = ind\n",
    "        "
   ]
  },
  {
   "cell_type": "markdown",
   "metadata": {},
   "source": [
    "Show the record that has the maximum percentage change calculated from above"
   ]
  },
  {
   "cell_type": "code",
   "execution_count": 16,
   "metadata": {},
   "outputs": [
    {
     "name": "stdout",
     "output_type": "stream",
     "text": [
      "The largest increase year on year from 1922 to 1923 : 3266.6666666666665\n"
     ]
    }
   ],
   "source": [
    "print (f'The largest increase year on year from {max_previous_index} to {max_index} : {max_percent}')"
   ]
  }
 ],
 "metadata": {
  "kernelspec": {
   "display_name": "Python 3.8.10 64-bit",
   "language": "python",
   "name": "python3"
  },
  "language_info": {
   "codemirror_mode": {
    "name": "ipython",
    "version": 3
   },
   "file_extension": ".py",
   "mimetype": "text/x-python",
   "name": "python",
   "nbconvert_exporter": "python",
   "pygments_lexer": "ipython3",
   "version": "3.8.10"
  },
  "orig_nbformat": 4,
  "vscode": {
   "interpreter": {
    "hash": "e7370f93d1d0cde622a1f8e1c04877d8463912d04d973331ad4851f04de6915a"
   }
  }
 },
 "nbformat": 4,
 "nbformat_minor": 2
}
