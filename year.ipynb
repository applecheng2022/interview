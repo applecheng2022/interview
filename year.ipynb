{
 "cells": [
  {
   "cell_type": "code",
   "execution_count": null,
   "metadata": {},
   "outputs": [],
   "source": [
    "import pandas\n",
    "import calendar\n",
    "data = pandas.read_csv( 'premises-list-as-at-8-february-2021.csv', encoding= 'unicode_escape', usecols=['Start date']  )\n",
    "data.dropna( inplace = True )\n",
    "data['year']=None\n",
    "\n"
   ]
  },
  {
   "cell_type": "code",
   "execution_count": null,
   "metadata": {},
   "outputs": [],
   "source": [
    "for ind in data.index:\n",
    "    date = data['Start date'][ind]\n",
    "    year = date.split('/')[2]\n",
    "    data['year'][ind] = int(year)\n",
    "\n",
    "data['year'].value_counts().sort_index()"
   ]
  },
  {
   "cell_type": "code",
   "execution_count": null,
   "metadata": {},
   "outputs": [],
   "source": [
    "result = data['year'].value_counts().sort_index()\n",
    "previous_ind = None\n",
    "max_percent = -9999999\n",
    "\n",
    "for ind in result.index:\n",
    "    \n",
    "    if previous_ind is not None:\n",
    "        percent = (result[ind] - result[previous_ind]) / result[previous_ind] * 100\n",
    "        print (f'{ind} - {previous_ind} : {percent}')\n",
    "\n",
    "        if percent > max_percent:\n",
    "            max_percent = percent\n",
    "            max_previous_index = previous_ind\n",
    "            max_index = ind\n",
    "        \n",
    "    previous_ind = ind\n",
    "        "
   ]
  },
  {
   "cell_type": "code",
   "execution_count": null,
   "metadata": {},
   "outputs": [],
   "source": [
    "print (f'The largest increase year on year from {max_previous_index} to {max_index} : {max_percent}')"
   ]
  }
 ],
 "metadata": {
  "kernelspec": {
   "display_name": "Python 3.8.10 64-bit",
   "language": "python",
   "name": "python3"
  },
  "language_info": {
   "codemirror_mode": {
    "name": "ipython",
    "version": 3
   },
   "file_extension": ".py",
   "mimetype": "text/x-python",
   "name": "python",
   "nbconvert_exporter": "python",
   "pygments_lexer": "ipython3",
   "version": "3.8.10"
  },
  "orig_nbformat": 4,
  "vscode": {
   "interpreter": {
    "hash": "e7370f93d1d0cde622a1f8e1c04877d8463912d04d973331ad4851f04de6915a"
   }
  }
 },
 "nbformat": 4,
 "nbformat_minor": 2
}
