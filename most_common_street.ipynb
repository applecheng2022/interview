{
 "cells": [
  {
   "cell_type": "markdown",
   "metadata": {},
   "source": [
    "Load the data from the csv file into a Pandas dataframe  \n",
    "Delete any NULL addresses  \n",
    "Add a new column called street which will hold the street names only (without the house number)"
   ]
  },
  {
   "cell_type": "code",
   "execution_count": null,
   "metadata": {},
   "outputs": [],
   "source": [
    "import pandas\n",
    "import re\n",
    "from numpy import NaN\n",
    "\n",
    "data = pandas.read_csv( 'data.csv', encoding= 'unicode_escape', usecols=['Address'] )\n",
    "data.dropna( inplace=True)\n",
    "data['Street'] = None\n",
    "data"
   ]
  },
  {
   "cell_type": "markdown",
   "metadata": {},
   "source": [
    "Create a road types lookup dictionary to us to make sure all road types are cleaned up with a standard name  \n",
    "(road_types.lookup was created from the clean_roads Jupyter notebook)"
   ]
  },
  {
   "cell_type": "code",
   "execution_count": null,
   "metadata": {},
   "outputs": [],
   "source": [
    "road_type_lookup = {}\n",
    "\n",
    "with open( 'road_types.lookup', 'r') as lookup:\n",
    "    for line in lookup:\n",
    "        lookup, abbreviation = line.strip().split(',')\n",
    "        road_type_lookup[lookup] = abbreviation\n",
    "\n",
    "road_type_lookup\n",
    "\n"
   ]
  },
  {
   "cell_type": "markdown",
   "metadata": {},
   "source": [
    "Function to extract the street name from an address\n",
    "Addressess can take many forms, for example\n",
    "\n",
    " * 1 Smith St\n",
    " * 1A Smith St\n",
    " * Smith St\n",
    " * UNIT 1 Smith St\n",
    "\n",
    " It also does a lookup to the road type to make sure the road type is using a standard name and cleans up the data\n",
    "\n",
    " The logic goes through the address one word at a time in reverse order until it finds \n",
    "\n",
    " * A word containing a number\n",
    " * A single letter word (eg A Smith St)\n",
    " * A UNIT or Lot name\n",
    "\n",
    " Once it finds that position it will add all the remaining words to a string and return it"
   ]
  },
  {
   "cell_type": "code",
   "execution_count": null,
   "metadata": {},
   "outputs": [],
   "source": [
    "def get_street_name( address ):\n",
    "    parts = address.split(' ')\n",
    "\n",
    "    #  Loop each part and ignore it if its a number or contains a number\n",
    "    #  or is only one character or is called UNIT or Lot\n",
    "    #  Once we find one thats not we just get all the rest\n",
    "    start_index = -1\n",
    "    num_parts = len( parts )\n",
    "    times = 0\n",
    "\n",
    "    while times < num_parts:\n",
    "        part = parts[start_index].upper()\n",
    "\n",
    "        #  If first time then check if the road type needs to be cleaned\n",
    "        #  using the road_type_lookup\n",
    "        if times == 0:\n",
    "            if part in road_type_lookup:\n",
    "                part = road_type_lookup[part]\n",
    "            parts[start_index] = part\n",
    "\n",
    "   \n",
    "        if part.isnumeric() or bool(re.search(r'\\d', part)) \\\n",
    "           or len(part ) == 1 or part.upper() == 'UNIT' \\\n",
    "           or part.upper() == 'LOT':\n",
    "            break\n",
    "            \n",
    "        start_index = start_index - 1\n",
    "        times +=1 \n",
    "\n",
    "    return ' '.join( parts[start_index+1:] )"
   ]
  },
  {
   "cell_type": "markdown",
   "metadata": {},
   "source": [
    "Process all the addresses and create the street name using the get_street_name function above  \n",
    "Add the street name to the 'Street' column"
   ]
  },
  {
   "cell_type": "code",
   "execution_count": null,
   "metadata": {},
   "outputs": [],
   "source": [
    "for ind in data.index:\n",
    "    address = data['Address'][ind]\n",
    "    \n",
    "    if not address is NaN:\n",
    "        street = get_street_name( address )\n",
    "        data['Street'][ind] = street\n",
    "\n",
    "data"
   ]
  },
  {
   "cell_type": "markdown",
   "metadata": {},
   "source": [
    "Query for all streets that have a length of more than 10\n",
    "and count how many there are in each group"
   ]
  },
  {
   "cell_type": "code",
   "execution_count": null,
   "metadata": {},
   "outputs": [],
   "source": [
    "result=data.query('Street.str.len() > 10')['Street'].value_counts(sort=True, ascending=False)\n",
    "result"
   ]
  },
  {
   "cell_type": "markdown",
   "metadata": {},
   "source": [
    "Get the street with the most number of counts"
   ]
  },
  {
   "cell_type": "code",
   "execution_count": null,
   "metadata": {},
   "outputs": [],
   "source": [
    "print(f'The most common street name that has more than 10 letters is {result.nlargest(1).index[0]}')"
   ]
  }
 ],
 "metadata": {
  "kernelspec": {
   "display_name": "Python 3.8.10 ('apple2': venv)",
   "language": "python",
   "name": "python3"
  },
  "language_info": {
   "codemirror_mode": {
    "name": "ipython",
    "version": 3
   },
   "file_extension": ".py",
   "mimetype": "text/x-python",
   "name": "python",
   "nbconvert_exporter": "python",
   "pygments_lexer": "ipython3",
   "version": "3.8.10"
  },
  "orig_nbformat": 4,
  "vscode": {
   "interpreter": {
    "hash": "d8abd841b3605e7d559825e2b76fba7bac5823f96a894dac39f9795a407e712b"
   }
  }
 },
 "nbformat": 4,
 "nbformat_minor": 2
}
