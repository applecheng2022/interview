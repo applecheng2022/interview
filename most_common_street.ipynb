{
 "cells": [
  {
   "cell_type": "markdown",
   "metadata": {},
   "source": [
    "Load the data from the csv file into a Pandas dataframe  \n",
    "Delete any NULL addresses  \n",
    "Add a new column called street which will hold the street names only (without the house number)"
   ]
  },
  {
   "cell_type": "code",
   "execution_count": 15,
   "metadata": {},
   "outputs": [
    {
     "data": {
      "text/html": [
       "<div>\n",
       "<style scoped>\n",
       "    .dataframe tbody tr th:only-of-type {\n",
       "        vertical-align: middle;\n",
       "    }\n",
       "\n",
       "    .dataframe tbody tr th {\n",
       "        vertical-align: top;\n",
       "    }\n",
       "\n",
       "    .dataframe thead th {\n",
       "        text-align: right;\n",
       "    }\n",
       "</style>\n",
       "<table border=\"1\" class=\"dataframe\">\n",
       "  <thead>\n",
       "    <tr style=\"text-align: right;\">\n",
       "      <th></th>\n",
       "      <th>Address</th>\n",
       "      <th>Street</th>\n",
       "    </tr>\n",
       "  </thead>\n",
       "  <tbody>\n",
       "    <tr>\n",
       "      <th>0</th>\n",
       "      <td>1A Barker Ave</td>\n",
       "      <td>None</td>\n",
       "    </tr>\n",
       "    <tr>\n",
       "      <th>1</th>\n",
       "      <td>12 Burkinshaw St</td>\n",
       "      <td>None</td>\n",
       "    </tr>\n",
       "    <tr>\n",
       "      <th>2</th>\n",
       "      <td>36-38 River St</td>\n",
       "      <td>None</td>\n",
       "    </tr>\n",
       "    <tr>\n",
       "      <th>3</th>\n",
       "      <td>Beach St</td>\n",
       "      <td>None</td>\n",
       "    </tr>\n",
       "    <tr>\n",
       "      <th>4</th>\n",
       "      <td>26 Humphries Rd</td>\n",
       "      <td>None</td>\n",
       "    </tr>\n",
       "    <tr>\n",
       "      <th>...</th>\n",
       "      <td>...</td>\n",
       "      <td>...</td>\n",
       "    </tr>\n",
       "    <tr>\n",
       "      <th>18742</th>\n",
       "      <td>UNIT 4 6 LEIGHTON PL</td>\n",
       "      <td>None</td>\n",
       "    </tr>\n",
       "    <tr>\n",
       "      <th>18743</th>\n",
       "      <td>13A LEWIS ST</td>\n",
       "      <td>None</td>\n",
       "    </tr>\n",
       "    <tr>\n",
       "      <th>18744</th>\n",
       "      <td>271 Powder Works Road</td>\n",
       "      <td>None</td>\n",
       "    </tr>\n",
       "    <tr>\n",
       "      <th>18745</th>\n",
       "      <td>160 PRINCES HWY</td>\n",
       "      <td>None</td>\n",
       "    </tr>\n",
       "    <tr>\n",
       "      <th>18746</th>\n",
       "      <td>68 old gosford rd</td>\n",
       "      <td>None</td>\n",
       "    </tr>\n",
       "  </tbody>\n",
       "</table>\n",
       "<p>18595 rows × 2 columns</p>\n",
       "</div>"
      ],
      "text/plain": [
       "                     Address Street\n",
       "0              1A Barker Ave   None\n",
       "1           12 Burkinshaw St   None\n",
       "2             36-38 River St   None\n",
       "3                   Beach St   None\n",
       "4            26 Humphries Rd   None\n",
       "...                      ...    ...\n",
       "18742   UNIT 4 6 LEIGHTON PL   None\n",
       "18743           13A LEWIS ST   None\n",
       "18744  271 Powder Works Road   None\n",
       "18745        160 PRINCES HWY   None\n",
       "18746      68 old gosford rd   None\n",
       "\n",
       "[18595 rows x 2 columns]"
      ]
     },
     "execution_count": 15,
     "metadata": {},
     "output_type": "execute_result"
    }
   ],
   "source": [
    "import pandas\n",
    "import re\n",
    "from numpy import NaN\n",
    "\n",
    "data = pandas.read_csv( 'premises-list-as-at-8-february-2021.csv', encoding= 'unicode_escape', usecols=['Address'] )\n",
    "data.dropna( inplace=True)\n",
    "data['Street'] = None\n",
    "data"
   ]
  },
  {
   "cell_type": "markdown",
   "metadata": {},
   "source": [
    "Create a road types lookup dictionary to us to make sure all road types are cleaned up with a standard name  \n",
    "(road_types.lookup was created from the clean_roads Jupyter notebook)"
   ]
  },
  {
   "cell_type": "code",
   "execution_count": 16,
   "metadata": {},
   "outputs": [
    {
     "data": {
      "text/plain": [
       "{'ACCS': 'ACCESS',\n",
       " 'ARCADE': 'ARC',\n",
       " 'AV': 'AVE',\n",
       " 'AVENUE': 'AVE',\n",
       " 'AVENUES': 'AVE',\n",
       " 'AVES': 'AVE',\n",
       " 'BLVDE': 'BLVD',\n",
       " 'BLVE': 'BLVD',\n",
       " 'BOULEVARD': 'BLVD',\n",
       " 'BOULEVARDE': 'BLVD',\n",
       " 'BVD': 'BLVD',\n",
       " 'BVDE': 'BLVD',\n",
       " 'CHASE': 'CH',\n",
       " 'CIRCUIT': 'CCT',\n",
       " 'CLOSE': 'CL',\n",
       " 'COURT': 'CT',\n",
       " 'COURTS': 'CT',\n",
       " 'COVE': 'CV',\n",
       " 'CRES': 'CR',\n",
       " 'CRESCENT': 'CR',\n",
       " 'CRESENT': 'CR',\n",
       " 'CROSSING': 'CROSS',\n",
       " 'CRT': 'CT',\n",
       " 'DRIBE': 'DR',\n",
       " 'DRIVE': 'DR',\n",
       " 'DRIVES': 'DR',\n",
       " 'DRIVEWAY': 'DR',\n",
       " 'DRS': 'DR',\n",
       " 'ESPLANADE': 'ESP',\n",
       " 'GARDEN': 'GDN',\n",
       " 'GARDENS': 'GDN',\n",
       " 'GDNS': 'GDN',\n",
       " 'GLADE': 'GLDE',\n",
       " 'GRANGE': 'GRA',\n",
       " 'GRAOUND': 'GROUND',\n",
       " 'GROUNDS': 'GROUND',\n",
       " 'GROVE': 'GR',\n",
       " 'HEIGHTS': 'HTS',\n",
       " 'HIGHWAY': 'HWY',\n",
       " 'HIGHWAY)': 'HWY',\n",
       " 'HIGHYWAY': 'HWY',\n",
       " 'HWAY': 'HWY',\n",
       " 'HWYS': 'HWY',\n",
       " 'HY': 'HWY',\n",
       " 'ISLAND': 'ISL',\n",
       " 'LANE': 'LN',\n",
       " 'NTH': 'NORTH',\n",
       " 'OVAL)': 'OVAL',\n",
       " 'PARADE': 'PDE',\n",
       " 'PARKWAY': 'PWY',\n",
       " 'PATHWAY': 'PWAY',\n",
       " 'PLACE': 'PL',\n",
       " 'PLAZA': 'PLZA',\n",
       " 'POINT': 'PT',\n",
       " 'PROMENADE': 'PROM',\n",
       " 'QUAY': 'QYS',\n",
       " 'RD.': 'RD',\n",
       " 'RDS': 'RD',\n",
       " 'RDWY': 'RD',\n",
       " 'RESERVE': 'RES',\n",
       " 'ROAD': 'RD',\n",
       " 'ROAD)': 'RD',\n",
       " 'ROADS': 'RD',\n",
       " 'ROADWAY': 'RD',\n",
       " 'SIDE)': 'SIDE',\n",
       " 'SQUARE': 'SQ',\n",
       " 'SREET': 'ST',\n",
       " 'ST.': 'ST',\n",
       " 'STREET': 'ST',\n",
       " 'STREETS': 'ST',\n",
       " 'STS': 'ST',\n",
       " 'TERRACE': 'TCE',\n",
       " 'TRACK': 'TRK',\n",
       " 'WA;K': 'WALK',\n",
       " 'WAY)': 'WAY',\n",
       " 'WY': 'WAY'}"
      ]
     },
     "execution_count": 16,
     "metadata": {},
     "output_type": "execute_result"
    }
   ],
   "source": [
    "road_type_lookup = {}\n",
    "\n",
    "with open( 'road_types.lookup', 'r') as lookup:\n",
    "    for line in lookup:\n",
    "        lookup, abbreviation = line.strip().split(',')\n",
    "        road_type_lookup[lookup] = abbreviation\n",
    "\n",
    "road_type_lookup\n",
    "\n"
   ]
  },
  {
   "cell_type": "markdown",
   "metadata": {},
   "source": [
    "Function to extract the street name from an address\n",
    "Addressess can take many forms, for example\n",
    "\n",
    " * 1 Smith St\n",
    " * 1A Smith St\n",
    " * Smith St\n",
    " * UNIT 1 Smith St\n",
    "\n",
    " It also does a lookup to the road type to make sure the road type is using a standard name and cleans up the data\n",
    "\n",
    " The logic goes through the address one word at a time in reverse order until it finds \n",
    "\n",
    " * A word containing a number\n",
    " * A single letter word (eg A Smith St)\n",
    " * A UNIT or Lot name\n",
    "\n",
    " Once it finds that position it will add all the remaining words to a string and return it"
   ]
  },
  {
   "cell_type": "code",
   "execution_count": 17,
   "metadata": {},
   "outputs": [],
   "source": [
    "def get_street_name( address ):\n",
    "    parts = address.split(' ')\n",
    "\n",
    "    #  Loop each part and ignore it if its a number or contains a number\n",
    "    #  or is only one character or is called UNIT or Lot\n",
    "    #  Once we find one thats not we just get all the rest\n",
    "    start_index = -1\n",
    "    num_parts = len( parts )\n",
    "    times = 0\n",
    "\n",
    "    while times < num_parts:\n",
    "        part = parts[start_index].upper()\n",
    "\n",
    "        #  If first time then check if the road type needs to be cleaned\n",
    "        #  using the road_type_lookup\n",
    "        if times == 0:\n",
    "            if part in road_type_lookup:\n",
    "                part = road_type_lookup[part]\n",
    "            parts[start_index] = part\n",
    "\n",
    "   \n",
    "        if part.isnumeric() or bool(re.search(r'\\d', part)) \\\n",
    "           or len(part ) == 1 or part.upper() == 'UNIT' \\\n",
    "           or part.upper() == 'LOT':\n",
    "            break\n",
    "            \n",
    "        start_index = start_index - 1\n",
    "        times +=1 \n",
    "\n",
    "    return ' '.join( parts[start_index+1:] )"
   ]
  },
  {
   "cell_type": "markdown",
   "metadata": {},
   "source": [
    "Process all the addresses and create the street name using the get_street_name function above  \n",
    "Add the street name to the 'Street' column"
   ]
  },
  {
   "cell_type": "code",
   "execution_count": 18,
   "metadata": {},
   "outputs": [
    {
     "data": {
      "text/html": [
       "<div>\n",
       "<style scoped>\n",
       "    .dataframe tbody tr th:only-of-type {\n",
       "        vertical-align: middle;\n",
       "    }\n",
       "\n",
       "    .dataframe tbody tr th {\n",
       "        vertical-align: top;\n",
       "    }\n",
       "\n",
       "    .dataframe thead th {\n",
       "        text-align: right;\n",
       "    }\n",
       "</style>\n",
       "<table border=\"1\" class=\"dataframe\">\n",
       "  <thead>\n",
       "    <tr style=\"text-align: right;\">\n",
       "      <th></th>\n",
       "      <th>Address</th>\n",
       "      <th>Street</th>\n",
       "    </tr>\n",
       "  </thead>\n",
       "  <tbody>\n",
       "    <tr>\n",
       "      <th>0</th>\n",
       "      <td>1A Barker Ave</td>\n",
       "      <td>Barker AVE</td>\n",
       "    </tr>\n",
       "    <tr>\n",
       "      <th>1</th>\n",
       "      <td>12 Burkinshaw St</td>\n",
       "      <td>Burkinshaw ST</td>\n",
       "    </tr>\n",
       "    <tr>\n",
       "      <th>2</th>\n",
       "      <td>36-38 River St</td>\n",
       "      <td>River ST</td>\n",
       "    </tr>\n",
       "    <tr>\n",
       "      <th>3</th>\n",
       "      <td>Beach St</td>\n",
       "      <td>Beach ST</td>\n",
       "    </tr>\n",
       "    <tr>\n",
       "      <th>4</th>\n",
       "      <td>26 Humphries Rd</td>\n",
       "      <td>Humphries RD</td>\n",
       "    </tr>\n",
       "    <tr>\n",
       "      <th>...</th>\n",
       "      <td>...</td>\n",
       "      <td>...</td>\n",
       "    </tr>\n",
       "    <tr>\n",
       "      <th>18742</th>\n",
       "      <td>UNIT 4 6 LEIGHTON PL</td>\n",
       "      <td>LEIGHTON PL</td>\n",
       "    </tr>\n",
       "    <tr>\n",
       "      <th>18743</th>\n",
       "      <td>13A LEWIS ST</td>\n",
       "      <td>LEWIS ST</td>\n",
       "    </tr>\n",
       "    <tr>\n",
       "      <th>18744</th>\n",
       "      <td>271 Powder Works Road</td>\n",
       "      <td>Powder Works RD</td>\n",
       "    </tr>\n",
       "    <tr>\n",
       "      <th>18745</th>\n",
       "      <td>160 PRINCES HWY</td>\n",
       "      <td>PRINCES HWY</td>\n",
       "    </tr>\n",
       "    <tr>\n",
       "      <th>18746</th>\n",
       "      <td>68 old gosford rd</td>\n",
       "      <td>old gosford RD</td>\n",
       "    </tr>\n",
       "  </tbody>\n",
       "</table>\n",
       "<p>18595 rows × 2 columns</p>\n",
       "</div>"
      ],
      "text/plain": [
       "                     Address           Street\n",
       "0              1A Barker Ave       Barker AVE\n",
       "1           12 Burkinshaw St    Burkinshaw ST\n",
       "2             36-38 River St         River ST\n",
       "3                   Beach St         Beach ST\n",
       "4            26 Humphries Rd     Humphries RD\n",
       "...                      ...              ...\n",
       "18742   UNIT 4 6 LEIGHTON PL      LEIGHTON PL\n",
       "18743           13A LEWIS ST         LEWIS ST\n",
       "18744  271 Powder Works Road  Powder Works RD\n",
       "18745        160 PRINCES HWY      PRINCES HWY\n",
       "18746      68 old gosford rd   old gosford RD\n",
       "\n",
       "[18595 rows x 2 columns]"
      ]
     },
     "execution_count": 18,
     "metadata": {},
     "output_type": "execute_result"
    }
   ],
   "source": [
    "for ind in data.index:\n",
    "    address = data['Address'][ind]\n",
    "    \n",
    "    if not address is NaN:\n",
    "        street = get_street_name( address )\n",
    "        data['Street'][ind] = street\n",
    "\n",
    "data"
   ]
  },
  {
   "cell_type": "markdown",
   "metadata": {},
   "source": [
    "Query for all streets that have a length of more than 10\n",
    "and count how many there are in each group"
   ]
  },
  {
   "cell_type": "code",
   "execution_count": 19,
   "metadata": {},
   "outputs": [
    {
     "data": {
      "text/plain": [
       "Pacific HWY                                           216\n",
       "Princes HWY                                           164\n",
       "Pittwater RD                                           83\n",
       "Military RD                                            79\n",
       "Victoria ST                                            72\n",
       "                                                     ... \n",
       "homebush recreation reserve ivanhoe RD                  1\n",
       "Belrose Community Centre (also Forest Lions CLUBRO      1\n",
       "Falconer RD                                             1\n",
       "Alamein Avenue NORTH                                    1\n",
       "old gosford RD                                          1\n",
       "Name: Street, Length: 4077, dtype: int64"
      ]
     },
     "execution_count": 19,
     "metadata": {},
     "output_type": "execute_result"
    }
   ],
   "source": [
    "result=data.query('Street.str.len() > 10')['Street'].value_counts(sort=True, ascending=False)\n",
    "result"
   ]
  },
  {
   "cell_type": "markdown",
   "metadata": {},
   "source": [
    "Get the street with the most number of counts"
   ]
  },
  {
   "cell_type": "code",
   "execution_count": 20,
   "metadata": {},
   "outputs": [
    {
     "name": "stdout",
     "output_type": "stream",
     "text": [
      "The most common street name that has more than 10 letters is Pacific HWY\n"
     ]
    }
   ],
   "source": [
    "print(f'The most common street name that has more than 10 letters is {result.nlargest(1).index[0]}')"
   ]
  }
 ],
 "metadata": {
  "kernelspec": {
   "display_name": "Python 3.8.10 64-bit",
   "language": "python",
   "name": "python3"
  },
  "language_info": {
   "codemirror_mode": {
    "name": "ipython",
    "version": 3
   },
   "file_extension": ".py",
   "mimetype": "text/x-python",
   "name": "python",
   "nbconvert_exporter": "python",
   "pygments_lexer": "ipython3",
   "version": "3.8.10"
  },
  "orig_nbformat": 4,
  "vscode": {
   "interpreter": {
    "hash": "e7370f93d1d0cde622a1f8e1c04877d8463912d04d973331ad4851f04de6915a"
   }
  }
 },
 "nbformat": 4,
 "nbformat_minor": 2
}
