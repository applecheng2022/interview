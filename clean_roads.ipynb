{
 "cells": [
  {
   "cell_type": "markdown",
   "metadata": {},
   "source": [
    "Load the data from the csv file into a Pandas dataframe  \n",
    "Delete any NULL addresses "
   ]
  },
  {
   "cell_type": "code",
   "execution_count": null,
   "metadata": {},
   "outputs": [],
   "source": [
    "import pandas\n",
    "import re\n",
    "from numpy import NaN\n",
    "\n",
    "data = pandas.read_csv( 'data.csv', encoding= 'unicode_escape', usecols=['Address'] )\n",
    "data.dropna( inplace=True)\n",
    "data"
   ]
  },
  {
   "cell_type": "markdown",
   "metadata": {},
   "source": [
    "Get the last word in each address and convert it to uppercase. This should be the road type for most addresses  \n",
    "If it doesnt contain a number or is UNIT or Lot then add it to the Set  \n",
    "Print out the Set so we can manually add the correct road type abbreviations"
   ]
  },
  {
   "cell_type": "code",
   "execution_count": null,
   "metadata": {},
   "outputs": [],
   "source": [
    "def get_street_type( address ):\n",
    "    if address is not NaN:\n",
    "        part = address.split( ' ' )[-1].upper()\n",
    "\n",
    "        if part.isnumeric() or bool(re.search(r'\\d', part)) \\\n",
    "           or len(part ) == 1 or part.upper() == 'UNIT' \\\n",
    "           or part.upper() == 'LOT':\n",
    "            return None\n",
    "        else:\n",
    "            return part\n",
    "\n",
    "street_types = set()\n",
    "\n",
    "for ind in data.index:\n",
    "    address = data['Address'][ind]\n",
    "    \n",
    "    if not address is NaN:\n",
    "        street_type= get_street_type( address )\n",
    "\n",
    "        if street_type is not None:\n",
    "            street_types.add( street_type )\n",
    "\n",
    "street_types\n",
    "\n"
   ]
  }
 ],
 "metadata": {
  "kernelspec": {
   "display_name": "Python 3.8.10 64-bit",
   "language": "python",
   "name": "python3"
  },
  "language_info": {
   "codemirror_mode": {
    "name": "ipython",
    "version": 3
   },
   "file_extension": ".py",
   "mimetype": "text/x-python",
   "name": "python",
   "nbconvert_exporter": "python",
   "pygments_lexer": "ipython3",
   "version": "3.8.10"
  },
  "orig_nbformat": 4,
  "vscode": {
   "interpreter": {
    "hash": "e7370f93d1d0cde622a1f8e1c04877d8463912d04d973331ad4851f04de6915a"
   }
  }
 },
 "nbformat": 4,
 "nbformat_minor": 2
}
