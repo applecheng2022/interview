{
 "cells": [
  {
   "cell_type": "code",
   "execution_count": 3,
   "metadata": {},
   "outputs": [],
   "source": [
    "import pandas\n",
    "import calendar\n",
    "data = pandas.read_csv( 'premises-list-as-at-8-february-2021.csv', encoding= 'unicode_escape',usecols=['Start date']  )\n",
    "data.dropna( inplace = True )\n",
    "data['month']=None"
   ]
  },
  {
   "cell_type": "code",
   "execution_count": 4,
   "metadata": {},
   "outputs": [
    {
     "data": {
      "text/plain": [
       "December     1951\n",
       "November     1820\n",
       "July         1686\n",
       "October      1623\n",
       "September    1618\n",
       "August       1571\n",
       "May          1529\n",
       "April        1497\n",
       "March        1494\n",
       "June         1455\n",
       "February     1277\n",
       "January      1226\n",
       "Name: month, dtype: int64"
      ]
     },
     "execution_count": 4,
     "metadata": {},
     "output_type": "execute_result"
    }
   ],
   "source": [
    "for ind in data.index:\n",
    "    date = data['Start date'][ind]\n",
    "    month = calendar.month_name[int(date.split('/')[1])]\n",
    "    data['month'][ind] = month\n",
    "    \n",
    "data['month'].value_counts(sort=True, ascending=False)\n"
   ]
  },
  {
   "cell_type": "code",
   "execution_count": 5,
   "metadata": {},
   "outputs": [
    {
     "name": "stdout",
     "output_type": "stream",
     "text": [
      "The year had the second most start dates is November\n"
     ]
    }
   ],
   "source": [
    "result = data['month'].value_counts(sort=True, ascending=False)\n",
    "\n",
    "print(f'The year had the second most start dates is {result.nlargest(2).index[1]}')"
   ]
  }
 ],
 "metadata": {
  "kernelspec": {
   "display_name": "Python 3.8.10 64-bit",
   "language": "python",
   "name": "python3"
  },
  "language_info": {
   "codemirror_mode": {
    "name": "ipython",
    "version": 3
   },
   "file_extension": ".py",
   "mimetype": "text/x-python",
   "name": "python",
   "nbconvert_exporter": "python",
   "pygments_lexer": "ipython3",
   "version": "3.8.10"
  },
  "orig_nbformat": 4,
  "vscode": {
   "interpreter": {
    "hash": "e7370f93d1d0cde622a1f8e1c04877d8463912d04d973331ad4851f04de6915a"
   }
  }
 },
 "nbformat": 4,
 "nbformat_minor": 2
}
